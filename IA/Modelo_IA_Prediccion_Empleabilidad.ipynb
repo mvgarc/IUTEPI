{
 "cells": [
  {
   "cell_type": "markdown",
   "id": "317e4cef",
   "metadata": {},
   "source": [
    "# Modelo de IA: Predicción de Empleabilidad de Graduados\n",
    "Este notebook está diseñado para principiantes. Paso a paso aprenderemos a:\n",
    "\n",
    "1. Cargar un dataset (descargado de Kaggle).\n",
    "2. Explorar y limpiar los datos.\n",
    "3. Preparar los datos para modelado (codificación, división train/test).\n",
    "4. Entrenar un modelo básico (Random Forest) y evaluar resultados.\n",
    "5. Visualizar resultados e interpretar la importancia de las variables.\n",
    "\n",
    "🔸 **Instrucciones:** Descarga el archivo CSV del dataset de Kaggle (`Graduate_Employability.csv`) y súbelo a la misma carpeta donde ejecutarás este notebook (o móntalo en Google Colab).\n",
    "\n",
    "🔸 El notebook incluye celdas marcadas con `# TODO` para que ustedes (los estudiantes) las completen."
   ]
  },
  {
   "cell_type": "code",
   "execution_count": null,
   "id": "aa74dce0",
   "metadata": {},
   "outputs": [],
   "source": [
    "# 1) Importar librerías necesarias\n",
    "import pandas as pd\n",
    "import numpy as np\n",
    "import matplotlib.pyplot as plt\n",
    "import seaborn as sns\n",
    "from sklearn.model_selection import train_test_split\n",
    "from sklearn.preprocessing import LabelEncoder\n",
    "from sklearn.ensemble import RandomForestClassifier\n",
    "from sklearn.metrics import accuracy_score, confusion_matrix, classification_report\n",
    "\n",
    "%matplotlib inline\n",
    "\n",
    "print('Librerías importadas correctamente')"
   ]
  },
  {
   "cell_type": "markdown",
   "id": "50083d9e",
   "metadata": {},
   "source": [
    "## 2) Cargar el dataset\n",
    "Carga el archivo CSV (asegúrate de que el nombre del archivo coincide con el que subiste)."
   ]
  },
  {
   "cell_type": "code",
   "execution_count": null,
   "id": "65c5af8b",
   "metadata": {},
   "outputs": [],
   "source": [
    "# Cambia la ruta si es necesario\n",
    "csv_path = 'CollegePlacement.csv'\n",
    "\n",
    "try:\n",
    "    data = pd.read_csv(csv_path)\n",
    "    print('Dataset cargado con éxito. Filas y columnas:', data.shape)\n",
    "    display(data.head())\n",
    "except FileNotFoundError:\n",
    "    print(f'No se encontró el archivo {csv_path}. Sube el CSV y vuelve a ejecutar esta celda.')"
   ]
  },
  {
   "cell_type": "markdown",
   "id": "c916edc2",
   "metadata": {},
   "source": [
    "## 3) Exploración básica de los datos\n",
    "Veamos información general, tipos de datos y valores faltantes."
   ]
  },
  {
   "cell_type": "code",
   "execution_count": null,
   "id": "59104835",
   "metadata": {},
   "outputs": [],
   "source": [
    "# Información general\n",
    "if 'data' in globals():\n",
    "    display(data.info())\n",
    "    display(data.describe(include='all').T)\n",
    "    print('\\nValores nulos por columna:')\n",
    "    display(data.isnull().sum().sort_values(ascending=False).head(20))\n",
    "else:\n",
    "    print('Carga el dataset primero.')"
   ]
  },
  {
   "cell_type": "markdown",
   "id": "414a5146",
   "metadata": {},
   "source": [
    "### 3.1) Visualizaciones simples\n",
    "Hagamos algunos gráficos para conocer la distribución de variables."
   ]
  },
  {
   "cell_type": "code",
   "execution_count": null,
   "id": "5650932e",
   "metadata": {},
   "outputs": [],
   "source": [
    "if 'data' in globals():\n",
    "    # Mostrar el conteo de una columna categórica si existe\n",
    "    possible_cat_cols = data.select_dtypes(include=['object']).columns.tolist()\n",
    "    print('Columnas categóricas detectadas:', possible_cat_cols)\n",
    "\n",
    "    # Histograma de una variable numérica ejemplo\n",
    "    num_cols = data.select_dtypes(include=[np.number]).columns.tolist()\n",
    "    if len(num_cols) > 0:\n",
    "        col = num_cols[0]\n",
    "        plt.figure(figsize=(8,4))\n",
    "        sns.histplot(data[col].dropna(), kde=True)\n",
    "        plt.title(f'Histograma de {col}')\n",
    "        plt.show()\n",
    "else:\n",
    "    print('Carga el dataset primero.')"
   ]
  },
  {
   "cell_type": "markdown",
   "id": "0ab27391",
   "metadata": {},
   "source": [
    "## 4) Limpieza y preparación básica\n",
    "Para mantener la clase simple vamos a: eliminar filas con valores nulos (opcional) y codificar variables categóricas."
   ]
  },
  {
   "cell_type": "code",
   "execution_count": null,
   "id": "d9803f99",
   "metadata": {},
   "outputs": [],
   "source": [
    "# 4.1) Eliminar filas con valores nulos (opcional para principiantes)\n",
    "if 'data' in globals():\n",
    "    print('Antes, shape =', data.shape)\n",
    "    data_clean = data.dropna()\n",
    "    print('Después de dropna(), shape =', data_clean.shape)\n",
    "else:\n",
    "    print('Carga el dataset primero.')"
   ]
  },
  {
   "cell_type": "code",
   "execution_count": null,
   "id": "ba1bd758",
   "metadata": {},
   "outputs": [],
   "source": [
    "# 4.2) Codificar variables categóricas con LabelEncoder\n",
    "if 'data_clean' in globals():\n",
    "    data_enc = data_clean.copy()\n",
    "    le = LabelEncoder()\n",
    "    cat_cols = data_enc.select_dtypes(include=['object']).columns.tolist()\n",
    "    print('Columnas a codificar:', cat_cols)\n",
    "    for c in cat_cols:\n",
    "        try:\n",
    "            data_enc[c] = le.fit_transform(data_enc[c])\n",
    "        except Exception as e:\n",
    "            print('No se pudo codificar', c, e)\n",
    "    display(data_enc.head())\n",
    "else:\n",
    "    print('Asegúrate de tener data_clean')"
   ]
  },
  {
   "cell_type": "markdown",
   "id": "738d184d",
   "metadata": {},
   "source": [
    "## 5) Seleccionar variable objetivo y características\n",
    "Buscamos predecir una columna de empleabilidad. Identifica el nombre correcto de la columna objetivo en tu dataset.\n",
    "\n",
    "En muchos datasets puede llamarse `EmploymentStatus`, `Employed`, `Target`, etc."
   ]
  },
  {
   "cell_type": "code",
   "execution_count": null,
   "id": "ce0c4b3c",
   "metadata": {},
   "outputs": [],
   "source": [
    "# 5.1) Revisa columnas y elige objetivo\n",
    "if 'data_enc' in globals():\n",
    "    print('Columnas disponibles:')\n",
    "    display(pd.DataFrame({'columns': data_enc.columns}))\n",
    "    # TODO: Si la columna objetivo tiene un nombre distinto, cámbialo aquí\n",
    "    target_column = 'EmploymentStatus'  # <-- EDITA si tu dataset usa otro nombre\n",
    "    if target_column not in data_enc.columns:\n",
    "        print('\\nNo se encontró la columna objetivo:', target_column)\n",
    "        print('Por favor revisa el nombre y edítalo en la celda.')\n",
    "    else:\n",
    "        X = data_enc.drop(target_column, axis=1)\n",
    "        y = data_enc[target_column]\n",
    "        print('\\nCaracterísticas (X) y objetivo (y) definidas con éxito')\n",
    "else:\n",
    "    print('Asegúrate de ejecutar las celdas anteriores primero.')"
   ]
  },
  {
   "cell_type": "markdown",
   "id": "0e7c22cc",
   "metadata": {},
   "source": [
    "## 6) División de datos: entrenamiento y prueba\n",
    "Dividimos los datos para evaluar correctamente el modelo (train/test split)."
   ]
  },
  {
   "cell_type": "code",
   "execution_count": null,
   "id": "16f0c4e1",
   "metadata": {},
   "outputs": [],
   "source": [
    "if 'X' in globals() and 'y' in globals():\n",
    "    X_train, X_test, y_train, y_test = train_test_split(X, y, test_size=0.2, random_state=42)\n",
    "    print('Tamaños:')\n",
    "    print('X_train', X_train.shape, 'X_test', X_test.shape)\n",
    "else:\n",
    "    print('Define X e y en la celda anterior.')"
   ]
  },
  {
   "cell_type": "markdown",
   "id": "25d998e0",
   "metadata": {},
   "source": [
    "## 7) Entrenar un modelo básico (Random Forest)\n",
    "Usamos RandomForestClassifier porque funciona bien sin demasiada parametrización.\n",
    "Explica a los estudiantes que es un conjunto de árboles de decisión."
   ]
  },
  {
   "cell_type": "code",
   "execution_count": null,
   "id": "5a24d778",
   "metadata": {},
   "outputs": [],
   "source": [
    "if 'X_train' in globals():\n",
    "    model = RandomForestClassifier(random_state=42)\n",
    "    model.fit(X_train, y_train)\n",
    "    print('Modelo entrenado correctamente')\n",
    "else:\n",
    "    print('Asegúrate de ejecutar la división train/test')"
   ]
  },
  {
   "cell_type": "markdown",
   "id": "152dd11f",
   "metadata": {},
   "source": [
    "## 8) Predicción y evaluación\n",
    "Evaluamos la exactitud (accuracy) y mostramos la matriz de confusión y el reporte de clasificación."
   ]
  },
  {
   "cell_type": "code",
   "execution_count": null,
   "id": "b11f7de6",
   "metadata": {},
   "outputs": [],
   "source": [
    "if 'model' in globals() and 'X_test' in globals():\n",
    "    y_pred = model.predict(X_test)\n",
    "    print('Accuracy:', accuracy_score(y_test, y_pred))\n",
    "    print('\\nMatriz de confusión:')\n",
    "    display(confusion_matrix(y_test, y_pred))\n",
    "    print('\\nReporte de clasificación:')\n",
    "    print(classification_report(y_test, y_pred))\n",
    "else:\n",
    "    print('Entrena el modelo primero')"
   ]
  },
  {
   "cell_type": "markdown",
   "id": "48729dff",
   "metadata": {},
   "source": [
    "## 9) Importancia de variables\n",
    "Mostramos qué variables fueron más relevantes para el modelo (según Random Forest)."
   ]
  },
  {
   "cell_type": "code",
   "execution_count": null,
   "id": "5ea4c20d",
   "metadata": {},
   "outputs": [],
   "source": [
    "if 'model' in globals() and 'X' in globals():\n",
    "    fi = pd.DataFrame({'feature': X.columns, 'importance': model.feature_importances_}).sort_values(by='importance', ascending=False)\n",
    "    display(fi.head(20))\n",
    "    plt.figure(figsize=(8,6))\n",
    "    sns.barplot(x='importance', y='feature', data=fi.head(15))\n",
    "    plt.title('Importancia de características (Top 15)')\n",
    "    plt.tight_layout()\n",
    "    plt.show()\n",
    "else:\n",
    "    print('Necesitamos el modelo entrenado y X definido')"
   ]
  },
  {
   "cell_type": "markdown",
   "id": "48350084",
   "metadata": {},
   "source": [
    "# 10) Ejercicios para que practiquen\n",
    "\n",
    "1. # TODO: Cambia la columna objetivo por otro nombre si tu dataset usa otro campo.\n",
    "2. # TODO: Prueba imputar valores nulos en lugar de eliminar filas (por ejemplo con la media).\n",
    "3. # TODO: Sustituye RandomForestClassifier por LogisticRegression y compara resultados.\n",
    "4. # TODO: Selecciona un subconjunto de variables (p. ej. 5) y entrena de nuevo. ¿Mejora o empeora la accuracy?\n",
    "5. Bonus: Usa sklearn.model_selection.GridSearchCV para buscar mejores hiperparámetros para RandomForest."
   ]
  }
 ],
 "metadata": {
  "language_info": {
   "name": "python"
  }
 },
 "nbformat": 4,
 "nbformat_minor": 5
}
